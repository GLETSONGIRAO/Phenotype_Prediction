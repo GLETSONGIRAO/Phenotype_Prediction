{
 "cells": [
  {
   "cell_type": "markdown",
   "id": "86a2fd8b",
   "metadata": {},
   "source": [
    "# Eye Color Prediction Parte 3: Criação do Modelo"
   ]
  },
  {
   "cell_type": "code",
   "execution_count": 1,
   "id": "956e9e36",
   "metadata": {},
   "outputs": [],
   "source": [
    "import pandas as pd\n",
    "import numpy as np\n",
    "\n",
    "from sklearn.model_selection import train_test_split\n",
    "from sklearn.model_selection import RepeatedStratifiedKFold\n",
    "from sklearn.model_selection import GridSearchCV\n",
    "from sklearn.model_selection import RandomizedSearchCV\n",
    "\n",
    "from sklearn.preprocessing import OneHotEncoder\n",
    "\n",
    "\n",
    "from sklearn.ensemble import RandomForestClassifier\n",
    "from sklearn.linear_model import LogisticRegression\n",
    "import xgboost as xgb\n",
    "\n",
    "from sklearn.metrics import accuracy_score\n",
    "from sklearn.metrics import classification_report\n",
    "from sklearn.metrics import roc_auc_score"
   ]
  },
  {
   "cell_type": "markdown",
   "id": "d353e3a9",
   "metadata": {},
   "source": [
    "## Setup Inicial"
   ]
  },
  {
   "cell_type": "code",
   "execution_count": 2,
   "id": "be8dcfc8",
   "metadata": {},
   "outputs": [],
   "source": [
    "df = pd.read_csv('datasets/df_ml_clean.csv')"
   ]
  },
  {
   "cell_type": "code",
   "execution_count": 3,
   "id": "e7a0086d",
   "metadata": {},
   "outputs": [
    {
     "data": {
      "text/html": [
       "<div>\n",
       "<style scoped>\n",
       "    .dataframe tbody tr th:only-of-type {\n",
       "        vertical-align: middle;\n",
       "    }\n",
       "\n",
       "    .dataframe tbody tr th {\n",
       "        vertical-align: top;\n",
       "    }\n",
       "\n",
       "    .dataframe thead th {\n",
       "        text-align: right;\n",
       "    }\n",
       "</style>\n",
       "<table border=\"1\" class=\"dataframe\">\n",
       "  <thead>\n",
       "    <tr style=\"text-align: right;\">\n",
       "      <th></th>\n",
       "      <th>rs12913832</th>\n",
       "      <th>rs1800407</th>\n",
       "      <th>rs12896399</th>\n",
       "      <th>rs16891982</th>\n",
       "      <th>rs1393350</th>\n",
       "      <th>rs12203592</th>\n",
       "      <th>color_cat</th>\n",
       "    </tr>\n",
       "  </thead>\n",
       "  <tbody>\n",
       "    <tr>\n",
       "      <th>0</th>\n",
       "      <td>missing</td>\n",
       "      <td>CC</td>\n",
       "      <td>missing</td>\n",
       "      <td>missing</td>\n",
       "      <td>missing</td>\n",
       "      <td>missing</td>\n",
       "      <td>Brown</td>\n",
       "    </tr>\n",
       "    <tr>\n",
       "      <th>1</th>\n",
       "      <td>missing</td>\n",
       "      <td>TC</td>\n",
       "      <td>missing</td>\n",
       "      <td>missing</td>\n",
       "      <td>missing</td>\n",
       "      <td>missing</td>\n",
       "      <td>BGG</td>\n",
       "    </tr>\n",
       "  </tbody>\n",
       "</table>\n",
       "</div>"
      ],
      "text/plain": [
       "  rs12913832 rs1800407 rs12896399 rs16891982 rs1393350 rs12203592 color_cat\n",
       "0    missing        CC    missing    missing   missing    missing     Brown\n",
       "1    missing        TC    missing    missing   missing    missing       BGG"
      ]
     },
     "execution_count": 3,
     "metadata": {},
     "output_type": "execute_result"
    }
   ],
   "source": [
    "df.head(2)"
   ]
  },
  {
   "cell_type": "code",
   "execution_count": 4,
   "id": "306ba01b",
   "metadata": {},
   "outputs": [
    {
     "data": {
      "text/plain": [
       "(1261, 7)"
      ]
     },
     "execution_count": 4,
     "metadata": {},
     "output_type": "execute_result"
    }
   ],
   "source": [
    "df.shape"
   ]
  },
  {
   "cell_type": "code",
   "execution_count": 5,
   "id": "e32a87d7",
   "metadata": {},
   "outputs": [],
   "source": [
    "X = df.iloc[:,:-1]\n",
    "y = df.iloc[:,-1]\n",
    "\n",
    "X_train, X_test, y_train, y_test = train_test_split(X, y, test_size=0.20, random_state=42)"
   ]
  },
  {
   "cell_type": "code",
   "execution_count": 6,
   "id": "948fb214",
   "metadata": {},
   "outputs": [
    {
     "data": {
      "text/plain": [
       "rs12913832    4\n",
       "rs1800407     4\n",
       "rs12896399    4\n",
       "rs16891982    4\n",
       "rs1393350     4\n",
       "rs12203592    4\n",
       "dtype: int64"
      ]
     },
     "execution_count": 6,
     "metadata": {},
     "output_type": "execute_result"
    }
   ],
   "source": [
    "X_train.nunique()"
   ]
  },
  {
   "cell_type": "code",
   "execution_count": 7,
   "id": "5312d67d",
   "metadata": {},
   "outputs": [],
   "source": [
    "# encoding\n",
    "ohe = OneHotEncoder(sparse=False)\n",
    "ohe.fit(X_train)\n",
    "\n",
    "X_train_encoded = ohe.transform(X_train)\n",
    "X_test_encoded = ohe.transform(X_test)"
   ]
  },
  {
   "cell_type": "markdown",
   "id": "6b83416a",
   "metadata": {},
   "source": [
    "### Experimento 01: Regressão Logística"
   ]
  },
  {
   "cell_type": "code",
   "execution_count": 8,
   "id": "9151c3d4",
   "metadata": {},
   "outputs": [
    {
     "name": "stdout",
     "output_type": "stream",
     "text": [
      "Fitting 15 folds for each of 100 candidates, totalling 1500 fits\n"
     ]
    }
   ],
   "source": [
    "space01 = {\"C\":np.logspace(-4, 4, 50),\n",
    "            \"fit_intercept\":[True,False]\n",
    "            }\n",
    "\n",
    "model01 = LogisticRegression(multi_class='multinomial', max_iter=1000 )\n",
    "cv01 = RepeatedStratifiedKFold(n_splits=5, n_repeats=3, random_state=42)\n",
    "search01 = GridSearchCV(model01, space01, cv=cv01, n_jobs=-1, verbose=10)\n",
    "result01 = search01.fit(X_train_encoded, y_train)"
   ]
  },
  {
   "cell_type": "code",
   "execution_count": 9,
   "id": "4ab93037",
   "metadata": {},
   "outputs": [
    {
     "name": "stdout",
     "output_type": "stream",
     "text": [
      "Os melhores parâmetros encontrados foram: {'C': 159.98587196060572, 'fit_intercept': True}\n",
      "Roc auc score do modelo: 0.9056870803769871\n",
      "Acurácia de teste: 76.68%.\n",
      "Acurácia de treino: 76.79%\n",
      " \n",
      " Classification Report: \n",
      " \n",
      "              precision    recall  f1-score   support\n",
      "\n",
      "       Brown       0.85      0.85      0.85       128\n",
      "         BGG       0.68      0.93      0.78        83\n",
      "         Int       0.73      0.19      0.30        42\n",
      "\n",
      "    accuracy                           0.77       253\n",
      "   macro avg       0.75      0.66      0.65       253\n",
      "weighted avg       0.77      0.77      0.74       253\n",
      "\n"
     ]
    }
   ],
   "source": [
    "print(f\"Os melhores parâmetros encontrados foram: {result01.best_params_}\")\n",
    "best_model01 = result01.best_estimator_\n",
    "\n",
    "y_pred = best_model01.predict(X_test_encoded)\n",
    "y_pred_probs = best_model01.predict_proba(X_test_encoded)\n",
    "y_pred_train = best_model01.predict(X_train_encoded)\n",
    "\n",
    "print(f\"Roc auc score do modelo: {roc_auc_score(y_test, y_pred_probs, average='weighted', multi_class='ovr') }\")\n",
    "print(f\"Acurácia de teste: {accuracy_score(y_test, y_pred):.2%}.\")\n",
    "print(f\"Acurácia de treino: { accuracy_score(y_pred_train, y_train):.2%}\")\n",
    "print(\" \\n Classification Report: \\n \")\n",
    "print(classification_report(y_test, y_pred, target_names=y.unique()))"
   ]
  },
  {
   "cell_type": "markdown",
   "id": "211bd99b",
   "metadata": {},
   "source": [
    "### Experimento 02: Random Forest"
   ]
  },
  {
   "cell_type": "code",
   "execution_count": 10,
   "id": "decde87f",
   "metadata": {},
   "outputs": [
    {
     "name": "stdout",
     "output_type": "stream",
     "text": [
      "Fitting 15 folds for each of 50 candidates, totalling 750 fits\n"
     ]
    },
    {
     "name": "stderr",
     "output_type": "stream",
     "text": [
      "C:\\ProgramData\\Miniconda3\\lib\\site-packages\\sklearn\\model_selection\\_validation.py:372: FitFailedWarning: \n",
      "150 fits failed out of a total of 750.\n",
      "The score on these train-test partitions for these parameters will be set to nan.\n",
      "If these failures are not expected, you can try to debug them by setting error_score='raise'.\n",
      "\n",
      "Below are more details about the failures:\n",
      "--------------------------------------------------------------------------------\n",
      "150 fits failed with the following error:\n",
      "Traceback (most recent call last):\n",
      "  File \"C:\\ProgramData\\Miniconda3\\lib\\site-packages\\sklearn\\model_selection\\_validation.py\", line 680, in _fit_and_score\n",
      "    estimator.fit(X_train, y_train, **fit_params)\n",
      "  File \"C:\\ProgramData\\Miniconda3\\lib\\site-packages\\sklearn\\ensemble\\_forest.py\", line 450, in fit\n",
      "    trees = Parallel(\n",
      "  File \"C:\\ProgramData\\Miniconda3\\lib\\site-packages\\joblib\\parallel.py\", line 1043, in __call__\n",
      "    if self.dispatch_one_batch(iterator):\n",
      "  File \"C:\\ProgramData\\Miniconda3\\lib\\site-packages\\joblib\\parallel.py\", line 861, in dispatch_one_batch\n",
      "    self._dispatch(tasks)\n",
      "  File \"C:\\ProgramData\\Miniconda3\\lib\\site-packages\\joblib\\parallel.py\", line 779, in _dispatch\n",
      "    job = self._backend.apply_async(batch, callback=cb)\n",
      "  File \"C:\\ProgramData\\Miniconda3\\lib\\site-packages\\joblib\\_parallel_backends.py\", line 208, in apply_async\n",
      "    result = ImmediateResult(func)\n",
      "  File \"C:\\ProgramData\\Miniconda3\\lib\\site-packages\\joblib\\_parallel_backends.py\", line 572, in __init__\n",
      "    self.results = batch()\n",
      "  File \"C:\\ProgramData\\Miniconda3\\lib\\site-packages\\joblib\\parallel.py\", line 262, in __call__\n",
      "    return [func(*args, **kwargs)\n",
      "  File \"C:\\ProgramData\\Miniconda3\\lib\\site-packages\\joblib\\parallel.py\", line 262, in <listcomp>\n",
      "    return [func(*args, **kwargs)\n",
      "  File \"C:\\ProgramData\\Miniconda3\\lib\\site-packages\\sklearn\\utils\\fixes.py\", line 216, in __call__\n",
      "    return self.function(*args, **kwargs)\n",
      "  File \"C:\\ProgramData\\Miniconda3\\lib\\site-packages\\sklearn\\ensemble\\_forest.py\", line 185, in _parallel_build_trees\n",
      "    tree.fit(X, y, sample_weight=curr_sample_weight, check_input=False)\n",
      "  File \"C:\\ProgramData\\Miniconda3\\lib\\site-packages\\sklearn\\tree\\_classes.py\", line 937, in fit\n",
      "    super().fit(\n",
      "  File \"C:\\ProgramData\\Miniconda3\\lib\\site-packages\\sklearn\\tree\\_classes.py\", line 250, in fit\n",
      "    raise ValueError(\n",
      "ValueError: min_samples_split must be an integer greater than 1 or a float in (0.0, 1.0]; got the integer 1\n",
      "\n",
      "  warnings.warn(some_fits_failed_message, FitFailedWarning)\n",
      "C:\\ProgramData\\Miniconda3\\lib\\site-packages\\sklearn\\model_selection\\_search.py:969: UserWarning: One or more of the test scores are non-finite: [0.73411655 0.73081457 0.73081457 0.73114461 0.72981955 0.73378651\n",
      " 0.73246474 0.73312152        nan        nan 0.73114625 0.73180467\n",
      " 0.73378651 0.73246474        nan 0.7337898  0.73081293 0.73214127\n",
      " 0.73346469        nan 0.73246474 0.7334532         nan        nan\n",
      "        nan 0.73808515 0.7344515  0.73213635 0.73444494 0.73676174\n",
      " 0.73246474 0.73179975 0.73214127 0.73709013 0.73279477 0.73544325\n",
      " 0.73510172 0.73147464 0.7318096  0.73114625 0.73114625        nan\n",
      " 0.73379144        nan 0.73676174 0.73081457 0.73345484 0.7360951\n",
      " 0.73808023        nan]\n",
      "  warnings.warn(\n"
     ]
    }
   ],
   "source": [
    "n_estimators = [120, 300, 500, 800, 1200]\n",
    "max_features = ['auto', 'sqrt','log2']\n",
    "max_depth = [5, 8, 15, 25, 30, None]\n",
    "min_samples_split = [1, 2, 5, 10, 15, 100]\n",
    "min_samples_leaf = [1, 2, 5, 10]\n",
    "\n",
    "space02 = {'n_estimators': n_estimators,\n",
    "           'max_features': max_features,\n",
    "           'max_depth': max_depth,\n",
    "           'min_samples_split': min_samples_split,\n",
    "           'min_samples_leaf': min_samples_leaf,\n",
    "           } \n",
    "\n",
    "model02 = RandomForestClassifier(random_state=42)\n",
    "cv02 = RepeatedStratifiedKFold(n_splits=5, n_repeats=3, random_state=42)\n",
    "search02 = RandomizedSearchCV(model02, space02, cv=cv02, n_jobs=-1, n_iter=50, verbose=10)\n",
    "result02 = search02.fit(X_train_encoded, y_train)"
   ]
  },
  {
   "cell_type": "code",
   "execution_count": 11,
   "id": "f768cd21",
   "metadata": {},
   "outputs": [
    {
     "name": "stdout",
     "output_type": "stream",
     "text": [
      "Os melhores parâmetros encontrados foram: {'n_estimators': 800, 'min_samples_split': 15, 'min_samples_leaf': 1, 'max_features': 'auto', 'max_depth': 15}\n",
      "Roc auc score do modelo: 0.8908652919909511\n",
      "Acurácia de teste: 75.10%.\n",
      "Acurácia de treino: 78.27%\n",
      " \n",
      " Classification Report: \n",
      " \n",
      "              precision    recall  f1-score   support\n",
      "\n",
      "       Brown       0.83      0.84      0.84       128\n",
      "         BGG       0.66      0.93      0.77        83\n",
      "         Int       0.71      0.12      0.20        42\n",
      "\n",
      "    accuracy                           0.75       253\n",
      "   macro avg       0.74      0.63      0.61       253\n",
      "weighted avg       0.76      0.75      0.71       253\n",
      "\n"
     ]
    }
   ],
   "source": [
    "print(f\"Os melhores parâmetros encontrados foram: {result02.best_params_}\")\n",
    "best_model02 = result02.best_estimator_\n",
    "\n",
    "y_pred = best_model02.predict(X_test_encoded)\n",
    "y_pred_probs = best_model02.predict_proba(X_test_encoded)\n",
    "y_pred_train = best_model02.predict(X_train_encoded)\n",
    "\n",
    "print(f\"Roc auc score do modelo: {roc_auc_score(y_test, y_pred_probs, average='weighted', multi_class='ovr') }\")\n",
    "print(f\"Acurácia de teste: {accuracy_score(y_test, y_pred):.2%}.\")\n",
    "print(f\"Acurácia de treino: { accuracy_score(y_pred_train, y_train):.2%}\")\n",
    "print(\" \\n Classification Report: \\n \")\n",
    "print(classification_report(y_test, y_pred, target_names=y.unique()))"
   ]
  },
  {
   "cell_type": "markdown",
   "id": "4c61e845",
   "metadata": {},
   "source": [
    "### Experimento 03: XGBoosting"
   ]
  },
  {
   "cell_type": "code",
   "execution_count": 12,
   "id": "acc9e5b5",
   "metadata": {},
   "outputs": [
    {
     "name": "stdout",
     "output_type": "stream",
     "text": [
      "Fitting 15 folds for each of 350 candidates, totalling 5250 fits\n"
     ]
    }
   ],
   "source": [
    "y_train_map = y_train.replace({\"BGG\":0, \"Brown\":1, \"Int\":2})\n",
    "y_test_map = y_test.replace({\"BGG\":0, \"Brown\":1, \"Int\":2})\n",
    "\n",
    "\n",
    "space03 = {'eta': [0.01, 0.015, 0.025, 0.05, 0.1],\n",
    "           'gamma': [0.05,0.01,0.3,0.5,0.7,0.9,1.0],\n",
    "           'max_depth': [3,5,7,9,12,15,17,25],\n",
    "           'min_child_weight': [1,3,5,7],\n",
    "           'subsample': [0.6,0.7,0.8,0.9,1.0],\n",
    "           'colsample_bytree':[0.6,0.7,0.8,0.9,1.0],\n",
    "           'lambda':[0.01,0.1,1.0],\n",
    "           'alpha':[0,0.1,0.5,1.0],\n",
    "           } \n",
    "\n",
    "model03 = xgb.XGBClassifier(objective=\"multi:softproba\", num_class=3, random_state=42, verbosity=1)\n",
    "cv03 = RepeatedStratifiedKFold(n_splits=5, n_repeats=3, random_state=42)\n",
    "search03 = RandomizedSearchCV(model03, space03, cv=cv03, n_jobs=-1, n_iter=350, verbose=10)\n",
    "result03 = search03.fit(X_train_encoded, y_train_map)"
   ]
  },
  {
   "cell_type": "code",
   "execution_count": 13,
   "id": "ecbf8f2b",
   "metadata": {},
   "outputs": [
    {
     "name": "stdout",
     "output_type": "stream",
     "text": [
      "Os melhores parâmetros encontrados foram: {'subsample': 0.6, 'min_child_weight': 1, 'max_depth': 3, 'lambda': 0.01, 'gamma': 0.05, 'eta': 0.05, 'colsample_bytree': 1.0, 'alpha': 0.1} \n",
      "\n",
      "Roc auc score do modelo: 0.9053484707072422\n",
      "Acurácia de teste: 76.28%.\n",
      "Acurácia de treino: 77.08%\n",
      " \n",
      " Classification Report: \n",
      " \n",
      "              precision    recall  f1-score   support\n",
      "\n",
      "       Brown       0.85      0.84      0.84       128\n",
      "         BGG       0.68      0.93      0.79        83\n",
      "         Int       0.64      0.21      0.32        42\n",
      "\n",
      "    accuracy                           0.76       253\n",
      "   macro avg       0.72      0.66      0.65       253\n",
      "weighted avg       0.76      0.76      0.74       253\n",
      "\n"
     ]
    }
   ],
   "source": [
    "print(f\"Os melhores parâmetros encontrados foram: {result03.best_params_} \\n\")\n",
    "best_model03 = result03.best_estimator_\n",
    "\n",
    "y_pred = best_model03.predict(X_test_encoded)\n",
    "y_pred_probs = best_model03.predict_proba(X_test_encoded)\n",
    "y_pred_train = best_model03.predict(X_train_encoded)\n",
    "\n",
    "print(f\"Roc auc score do modelo: {roc_auc_score(y_test_map, y_pred_probs, average='weighted', multi_class='ovr') }\")\n",
    "print(f\"Acurácia de teste: {accuracy_score(y_test_map, y_pred):.2%}.\")\n",
    "print(f\"Acurácia de treino: { accuracy_score(y_pred_train, y_train_map):.2%}\")\n",
    "print(\" \\n Classification Report: \\n \")\n",
    "print(classification_report(y_test_map, y_pred, target_names=y.unique()))"
   ]
  },
  {
   "cell_type": "code",
   "execution_count": null,
   "id": "17e656d3",
   "metadata": {},
   "outputs": [],
   "source": []
  }
 ],
 "metadata": {
  "kernelspec": {
   "display_name": "Python 3 (ipykernel)",
   "language": "python",
   "name": "python3"
  },
  "language_info": {
   "codemirror_mode": {
    "name": "ipython",
    "version": 3
   },
   "file_extension": ".py",
   "mimetype": "text/x-python",
   "name": "python",
   "nbconvert_exporter": "python",
   "pygments_lexer": "ipython3",
   "version": "3.9.7"
  },
  "vscode": {
   "interpreter": {
    "hash": "dac2e427d63e2952c73e1f4948cd6899eb8aec22596d91dbe380cfbbe11b4563"
   }
  }
 },
 "nbformat": 4,
 "nbformat_minor": 5
}
